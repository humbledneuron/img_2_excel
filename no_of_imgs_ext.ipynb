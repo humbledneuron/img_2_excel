{
 "cells": [
  {
   "cell_type": "code",
   "execution_count": 1,
   "metadata": {},
   "outputs": [
    {
     "name": "stdout",
     "output_type": "stream",
     "text": [
      "PDFs converted to images successfully.\n"
     ]
    }
   ],
   "source": [
    "#extract all images from pdfs in a folder\n",
    "from pdf2image import convert_from_path\n",
    "import os\n",
    "\n",
    "# Path to the folder containing the PDF files\n",
    "pdf_folder_path = 'pdfs_testing'\n",
    "\n",
    "# Get the list of PDF files in the folder\n",
    "pdf_files = [file for file in os.listdir(pdf_folder_path) if file.endswith('.pdf')]\n",
    "\n",
    "# Convert each PDF file to images\n",
    "for pdf_file in pdf_files:\n",
    "    # Construct the file paths\n",
    "    pdf_file_path = os.path.join(pdf_folder_path, pdf_file)\n",
    "\n",
    "    # Convert PDF to list of PIL images\n",
    "    images = convert_from_path(pdf_file_path)\n",
    "\n",
    "    # Save each page of the PDF as an image file\n",
    "    for i, image in enumerate(images):\n",
    "        # Construct the image file name with page number\n",
    "        image_file_path = os.path.join(pdf_folder_path, f\"{os.path.splitext(pdf_file)[0]}_page{i+1}.png\")\n",
    "        image.save(image_file_path, 'PNG')\n",
    "\n",
    "print('PDFs converted to images successfully.')\n"
   ]
  },
  {
   "cell_type": "code",
   "execution_count": 3,
   "metadata": {},
   "outputs": [
    {
     "name": "stdout",
     "output_type": "stream",
     "text": [
      "First pages of PDFs converted to images successfully.\n"
     ]
    }
   ],
   "source": [
    "#extracts only 1st page\n",
    "from pdf2image import convert_from_path\n",
    "import os\n",
    "\n",
    "# Path to the folder containing the PDF files\n",
    "pdf_folder_path = 'pdfs_testing'\n",
    "\n",
    "# Get the list of PDF files in the folder\n",
    "pdf_files = [file for file in os.listdir(pdf_folder_path) if file.endswith('.pdf')]\n",
    "\n",
    "# Convert only the first page of each PDF file to an image\n",
    "for pdf_file in pdf_files:\n",
    "    # Construct the file paths\n",
    "    pdf_file_path = os.path.join(pdf_folder_path, pdf_file)\n",
    "\n",
    "    # Convert PDF to list of PIL images\n",
    "    images = convert_from_path(pdf_file_path, first_page=1, last_page=1)\n",
    "\n",
    "    # Save the first page of the PDF as an image file\n",
    "    image_file_path = os.path.join(pdf_folder_path, f\"{os.path.splitext(pdf_file)[0]}_page1.png\")\n",
    "    images[0].save(image_file_path, 'PNG')\n",
    "\n",
    "print('First pages of PDFs converted to images successfully.')\n"
   ]
  }
 ],
 "metadata": {
  "kernelspec": {
   "display_name": "myenv",
   "language": "python",
   "name": "python3"
  },
  "language_info": {
   "codemirror_mode": {
    "name": "ipython",
    "version": 3
   },
   "file_extension": ".py",
   "mimetype": "text/x-python",
   "name": "python",
   "nbconvert_exporter": "python",
   "pygments_lexer": "ipython3",
   "version": "3.11.2"
  }
 },
 "nbformat": 4,
 "nbformat_minor": 2
}
